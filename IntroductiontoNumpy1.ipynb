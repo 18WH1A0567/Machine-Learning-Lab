{
 "cells": [
  {
   "cell_type": "markdown",
   "metadata": {
    "id": "cwotE0h6GBkt"
   },
   "source": [
    "## Objective\n",
    "\n",
    "At the end of this experiment you will be able to\n",
    "\n",
    "* create arrays, vectors and matrices using Numpy\n",
    "* perform operations on vectors and matrices"
   ]
  },
  {
   "cell_type": "markdown",
   "metadata": {
    "id": "aRDzT3W8dSor"
   },
   "source": [
    "## Objective\n",
    "\n",
    "At the end of this experiment you will be able to\n",
    "\n",
    "* create arrays, vectors and matrices using Numpy\n",
    "* perform operations on vectors and matrices"
   ]
  },
  {
   "cell_type": "markdown",
   "metadata": {
    "id": "rYANWPz9dSox"
   },
   "source": [
    "### Introduction to Numpy\n",
    "\n",
    "NumPy (Numerical Python) is a Python library for scientific computing, that provide high-performance vector, matrix, and higher-dimensional data structures for Python. It is implemented in C and Fortran so when calculations are vectorized (formulated with vectors and matrices), the performance is very good.\n",
    "\n",
    "It offers ndarray data structure for storing and ufuncs for efficiently processing the (homogeneous) data. Some of the important functionalities include: basic slicing, advanced or fancy indexing, broadcasting, etc.\n",
    "\n",
    "\n",
    "**How are NumPy arrays different from Python lists?**\n",
    "\n",
    "* Python lists are very general. They can contain any kind of object. They are dynamically typed.\n",
    "* They do not support mathematical functions such as matrix and dot multiplications, etc. Implementing such functions for Python lists would not be very efficient because of the dynamic typing.\n",
    "* Numpy arrays are statically typed and homogeneous. The type of the elements is determined when the array is created.\n",
    "* Numpy arrays are memory efficient.\n",
    "* Because of the static typing, fast implementation of mathematical functions such as multiplication and addition of numpy arrays can be implemented in a compiled language (C and Fortran is used).\n",
    "\n",
    "\n",
    "Now it is time to work on practicals. Following Are the given Exercise:\n"
   ]
  },
  {
   "cell_type": "markdown",
   "metadata": {
    "id": "PDdUPTs2dSo0"
   },
   "source": [
    "#### Exercise 1: Import the numpy package under the name np"
   ]
  },
  {
   "cell_type": "code",
   "execution_count": 1,
   "metadata": {
    "id": "aE1zkvTzdSo2"
   },
   "outputs": [],
   "source": [
    "# Your Code Here\n",
    "import numpy as np"
   ]
  },
  {
   "cell_type": "markdown",
   "metadata": {
    "id": "MTS6mLDpdSo-"
   },
   "source": [
    "#### Exercise 2: Create an array of 10 zeros"
   ]
  },
  {
   "cell_type": "code",
   "execution_count": 2,
   "metadata": {
    "id": "xf1Go2iJdSo_"
   },
   "outputs": [
    {
     "data": {
      "text/plain": [
       "array([0., 0., 0., 0., 0., 0., 0., 0., 0., 0.])"
      ]
     },
     "execution_count": 2,
     "metadata": {},
     "output_type": "execute_result"
    }
   ],
   "source": [
    "# Your Code Here\n",
    "np.zeros(10)"
   ]
  },
  {
   "cell_type": "markdown",
   "metadata": {
    "id": "zsoq73F-dSpE"
   },
   "source": [
    "#### Exercise 3: Create an array of 20 ones"
   ]
  },
  {
   "cell_type": "code",
   "execution_count": 4,
   "metadata": {
    "id": "nNCWei2YdSpF"
   },
   "outputs": [
    {
     "data": {
      "text/plain": [
       "array([1., 1., 1., 1., 1., 1., 1., 1., 1., 1., 1., 1., 1., 1., 1., 1., 1.,\n",
       "       1., 1., 1.])"
      ]
     },
     "execution_count": 4,
     "metadata": {},
     "output_type": "execute_result"
    }
   ],
   "source": [
    "# Your Code Here\n",
    "np.ones(20)"
   ]
  },
  {
   "cell_type": "markdown",
   "metadata": {
    "id": "jofCBqG_dSpR"
   },
   "source": [
    "#### Exercise 4: Create an array of 10 fours"
   ]
  },
  {
   "cell_type": "code",
   "execution_count": 13,
   "metadata": {
    "id": "oTpoRwEidSpT"
   },
   "outputs": [
    {
     "data": {
      "text/plain": [
       "array([[4, 4, 4, 4, 4, 4, 4, 4, 4, 4]])"
      ]
     },
     "execution_count": 13,
     "metadata": {},
     "output_type": "execute_result"
    }
   ],
   "source": [
    "# Your Code Here\n",
    "np.full((1, 10), 4)"
   ]
  },
  {
   "cell_type": "markdown",
   "metadata": {
    "id": "LVEyGMX-dSpf"
   },
   "source": [
    "#### Exercise 5: Create an array of integers from 20 to 60"
   ]
  },
  {
   "cell_type": "code",
   "execution_count": 25,
   "metadata": {
    "id": "ZSoauIsUdSph"
   },
   "outputs": [
    {
     "data": {
      "text/plain": [
       "array([20, 21, 22, 23, 24, 25, 26, 27, 28, 29, 30, 31, 32, 33, 34, 35, 36,\n",
       "       37, 38, 39, 40, 41, 42, 43, 44, 45, 46, 47, 48, 49, 50, 51, 52, 53,\n",
       "       54, 55, 56, 57, 58, 59, 60])"
      ]
     },
     "execution_count": 25,
     "metadata": {},
     "output_type": "execute_result"
    }
   ],
   "source": [
    "# Your Code Here\n",
    "np.arange(20, 61)"
   ]
  },
  {
   "cell_type": "markdown",
   "metadata": {
    "id": "FT3VHyc5dSpq"
   },
   "source": [
    "#### Exercise 6: Create an array of even integers from 20 to 60"
   ]
  },
  {
   "cell_type": "code",
   "execution_count": 26,
   "metadata": {
    "id": "IIRX8OihdSpq"
   },
   "outputs": [
    {
     "data": {
      "text/plain": [
       "array([20, 22, 24, 26, 28, 30, 32, 34, 36, 38, 40, 42, 44, 46, 48, 50, 52,\n",
       "       54, 56, 58, 60])"
      ]
     },
     "execution_count": 26,
     "metadata": {},
     "output_type": "execute_result"
    }
   ],
   "source": [
    "# Your Code Here\n",
    "np.arange(20, 61, 2)"
   ]
  },
  {
   "cell_type": "markdown",
   "metadata": {
    "id": "yKMvepP_dSpv"
   },
   "source": [
    "#### Exercise 7: Create a 4 * 4 indenty matrix"
   ]
  },
  {
   "cell_type": "code",
   "execution_count": 14,
   "metadata": {
    "id": "VzNNQ7XgdSpx"
   },
   "outputs": [
    {
     "data": {
      "text/plain": [
       "array([[1., 0., 0., 0.],\n",
       "       [0., 1., 0., 0.],\n",
       "       [0., 0., 1., 0.],\n",
       "       [0., 0., 0., 1.]])"
      ]
     },
     "execution_count": 14,
     "metadata": {},
     "output_type": "execute_result"
    }
   ],
   "source": [
    "# Your Code Here\n",
    "np.eye(4)"
   ]
  },
  {
   "cell_type": "markdown",
   "metadata": {
    "id": "d0LQJc5bdSp1"
   },
   "source": [
    "#### Exercise 8: Create a 3 * 3 matrix with values range from 0 to 8"
   ]
  },
  {
   "cell_type": "code",
   "execution_count": 53,
   "metadata": {
    "id": "wZTFyQxYdSp2"
   },
   "outputs": [
    {
     "data": {
      "text/plain": [
       "array([[0, 1, 2],\n",
       "       [3, 4, 5],\n",
       "       [6, 7, 8]])"
      ]
     },
     "execution_count": 53,
     "metadata": {},
     "output_type": "execute_result"
    }
   ],
   "source": [
    "# Your Code Here\n",
    "np.arange(0, 9).reshape(3, 3)"
   ]
  },
  {
   "cell_type": "markdown",
   "metadata": {
    "id": "roNuP3BFdSp6"
   },
   "source": [
    "#### Exercise 9: Generate a random number between 0 and 1 using numpy"
   ]
  },
  {
   "cell_type": "code",
   "execution_count": 79,
   "metadata": {
    "id": "PD_HLl62dSp7"
   },
   "outputs": [
    {
     "data": {
      "text/plain": [
       "array([0.12887914])"
      ]
     },
     "execution_count": 79,
     "metadata": {},
     "output_type": "execute_result"
    }
   ],
   "source": [
    "# Your Code Here\n",
    "np.random.rand(1)"
   ]
  },
  {
   "cell_type": "markdown",
   "metadata": {
    "id": "Eg34tGx9dSqA"
   },
   "source": [
    "#### Exercise 10: Generate an array of 15 random numbers sampled from a standard normal distribution"
   ]
  },
  {
   "cell_type": "code",
   "execution_count": 80,
   "metadata": {
    "id": "mJaoTjymdSqB"
   },
   "outputs": [
    {
     "data": {
      "text/plain": [
       "array([ 2.62493194, -1.30325274, -0.03604511,  0.82878254,  0.63443505,\n",
       "       -2.49158068, -0.56875479,  0.10995934,  0.96056489, -1.16709339,\n",
       "        1.58735641, -0.45610857, -1.13303208, -0.3633442 ,  0.61255899])"
      ]
     },
     "execution_count": 80,
     "metadata": {},
     "output_type": "execute_result"
    }
   ],
   "source": [
    "# Your Code Here\n",
    "np.random.randn(15)"
   ]
  },
  {
   "cell_type": "markdown",
   "metadata": {
    "id": "h_qPmUG4dSqF"
   },
   "source": [
    "#### Exercise 11: Create a vector with values ranging from 10 to 49 "
   ]
  },
  {
   "cell_type": "code",
   "execution_count": 54,
   "metadata": {
    "id": "udQoRuI0dSqF"
   },
   "outputs": [
    {
     "data": {
      "text/plain": [
       "array([10, 11, 12, 13, 14, 15, 16, 17, 18, 19, 20, 21, 22, 23, 24, 25, 26,\n",
       "       27, 28, 29, 30, 31, 32, 33, 34, 35, 36, 37, 38, 39, 40, 41, 42, 43,\n",
       "       44, 45, 46, 47, 48, 49])"
      ]
     },
     "execution_count": 54,
     "metadata": {},
     "output_type": "execute_result"
    }
   ],
   "source": [
    "# Your Code Here\n",
    "np.arange(10, 50)"
   ]
  },
  {
   "cell_type": "markdown",
   "metadata": {
    "id": "t0JG-0gedSqO"
   },
   "source": [
    "#### Exercise 12: Create a numpy array from a List"
   ]
  },
  {
   "cell_type": "code",
   "execution_count": 58,
   "metadata": {
    "id": "lCSlrV_DdSqP"
   },
   "outputs": [
    {
     "data": {
      "text/plain": [
       "array([1, 2])"
      ]
     },
     "execution_count": 58,
     "metadata": {},
     "output_type": "execute_result"
    }
   ],
   "source": [
    "# Your Code Here\n",
    "l = list([1, 2])\n",
    "np.array(l)"
   ]
  },
  {
   "cell_type": "markdown",
   "metadata": {
    "id": "4CsIX2JYdSqW"
   },
   "source": [
    "#### Exercise 13: Find indices of non-zero elements from [122,233,0,0,44,3]"
   ]
  },
  {
   "cell_type": "code",
   "execution_count": 49,
   "metadata": {
    "id": "QHPj6bw0dSqX"
   },
   "outputs": [
    {
     "data": {
      "text/plain": [
       "(array([0, 1, 4, 5]),)"
      ]
     },
     "execution_count": 49,
     "metadata": {},
     "output_type": "execute_result"
    }
   ],
   "source": [
    "# Your Code Here\n",
    "A = np.array([122, 233, 0, 0, 44, 3])\n",
    "np.nonzero(A)"
   ]
  },
  {
   "cell_type": "markdown",
   "metadata": {
    "id": "6uGm5BHjdSqf"
   },
   "source": [
    "#### Exercise 14:  Create a 3 * 3 * 3 array with random values"
   ]
  },
  {
   "cell_type": "code",
   "execution_count": 62,
   "metadata": {
    "id": "XgTyKfZjdSqh"
   },
   "outputs": [
    {
     "data": {
      "text/plain": [
       "array([[[0.87193351, 0.82877218, 0.20468235],\n",
       "        [0.58024985, 0.23567812, 0.42426092],\n",
       "        [0.90568684, 0.08320114, 0.52669014]],\n",
       "\n",
       "       [[0.91939623, 0.18659368, 0.24114731],\n",
       "        [0.34164487, 0.48703557, 0.7965522 ],\n",
       "        [0.05966584, 0.93691351, 0.33768403]],\n",
       "\n",
       "       [[0.77545193, 0.57468181, 0.20750816],\n",
       "        [0.45428375, 0.65784361, 0.54225569],\n",
       "        [0.02484521, 0.56878259, 0.20956919]]])"
      ]
     },
     "execution_count": 62,
     "metadata": {},
     "output_type": "execute_result"
    }
   ],
   "source": [
    "# Your Code Here\n",
    "np.random.random((3, 3, 3))"
   ]
  },
  {
   "cell_type": "markdown",
   "metadata": {
    "id": "0pbhTVD6dSql"
   },
   "source": [
    "#### Exercise 15: Create a 10 * 10 array with random values and find the minimum and maximum values"
   ]
  },
  {
   "cell_type": "code",
   "execution_count": 81,
   "metadata": {
    "id": "8mZVuKGSdSqm"
   },
   "outputs": [
    {
     "data": {
      "text/plain": [
       "(array([[0.03744232, 0.22883512, 0.40329235, 0.2075304 , 0.61793919,\n",
       "         0.5690668 , 0.84404688, 0.99503208, 0.05397294, 0.92403585],\n",
       "        [0.72921753, 0.691565  , 0.50231053, 0.86423909, 0.33022041,\n",
       "         0.11565628, 0.15083561, 0.68952389, 0.63742741, 0.79471977],\n",
       "        [0.62223266, 0.61053565, 0.58771557, 0.60355852, 0.21282943,\n",
       "         0.39887538, 0.70652666, 0.13085393, 0.00815694, 0.87157094],\n",
       "        [0.39096711, 0.82022367, 0.99441714, 0.86366481, 0.17230314,\n",
       "         0.67371385, 0.67922306, 0.88688818, 0.85533542, 0.82855153],\n",
       "        [0.23193253, 0.5773159 , 0.13802264, 0.54248668, 0.95169754,\n",
       "         0.93220888, 0.24901707, 0.38081378, 0.12843106, 0.12147064],\n",
       "        [0.7900239 , 0.45556484, 0.42556314, 0.83851802, 0.44578575,\n",
       "         0.18162091, 0.93281492, 0.75035435, 0.94982308, 0.37232273],\n",
       "        [0.53096885, 0.70633881, 0.04043191, 0.37488379, 0.57993333,\n",
       "         0.39117645, 0.12786254, 0.44073458, 0.79547588, 0.97321632],\n",
       "        [0.62527201, 0.8197467 , 0.27311064, 0.13479661, 0.45391474,\n",
       "         0.58272875, 0.4450241 , 0.20132342, 0.44715266, 0.75056735],\n",
       "        [0.52629684, 0.39703889, 0.8536256 , 0.0686759 , 0.03233323,\n",
       "         0.79387407, 0.63256854, 0.03041783, 0.88749088, 0.23576899],\n",
       "        [0.77930767, 0.66378442, 0.56922936, 0.66502025, 0.56446791,\n",
       "         0.09297394, 0.85061347, 0.84181027, 0.04157978, 0.3397362 ]]),\n",
       " 0.9950320776706865,\n",
       " 0.008156944429510649)"
      ]
     },
     "execution_count": 81,
     "metadata": {},
     "output_type": "execute_result"
    }
   ],
   "source": [
    "# Your Code Here\n",
    "A = np.random.random((10, 10))\n",
    "A, A.max(), A.min()"
   ]
  },
  {
   "cell_type": "markdown",
   "metadata": {
    "id": "YHb58SV4dSqs"
   },
   "source": [
    "#### Exercise 16: Create a random vector of size 10 and find the mean value"
   ]
  },
  {
   "cell_type": "code",
   "execution_count": 83,
   "metadata": {
    "id": "AMIGKKlRdSqt"
   },
   "outputs": [
    {
     "data": {
      "text/plain": [
       "(array([ 0.08725926,  1.81930807, -0.010923  ,  0.09334741,  0.69947784,\n",
       "         1.09467968, -0.04515601, -1.04812519, -1.26380027,  0.17629829]),\n",
       " 0.1602366067932497)"
      ]
     },
     "execution_count": 83,
     "metadata": {},
     "output_type": "execute_result"
    }
   ],
   "source": [
    "# Your Code Here\n",
    "A = np.random.randn(10)\n",
    "A, A.mean()"
   ]
  },
  {
   "cell_type": "markdown",
   "metadata": {
    "id": "pGQZCt9-dSqz"
   },
   "source": [
    "#### Exercise 17:  Create a checkerboard 8 * 8 matrix using the tile function "
   ]
  },
  {
   "cell_type": "code",
   "execution_count": 88,
   "metadata": {
    "id": "_ZQQVPL6dSqz"
   },
   "outputs": [
    {
     "data": {
      "text/plain": [
       "array([[1., 0., 1., 0., 1., 0., 1., 0.],\n",
       "       [0., 1., 0., 1., 0., 1., 0., 1.],\n",
       "       [1., 0., 1., 0., 1., 0., 1., 0.],\n",
       "       [0., 1., 0., 1., 0., 1., 0., 1.],\n",
       "       [1., 0., 1., 0., 1., 0., 1., 0.],\n",
       "       [0., 1., 0., 1., 0., 1., 0., 1.],\n",
       "       [1., 0., 1., 0., 1., 0., 1., 0.],\n",
       "       [0., 1., 0., 1., 0., 1., 0., 1.]])"
      ]
     },
     "execution_count": 88,
     "metadata": {},
     "output_type": "execute_result"
    }
   ],
   "source": [
    "# Your Code Here\n",
    "np.tile(np.eye(2), (4, 4))"
   ]
  },
  {
   "cell_type": "markdown",
   "metadata": {
    "id": "NvUVMLdZdSq7"
   },
   "source": [
    "#### Exercise 18: Given two arrays *A* and *B*, perform the below operations.\n",
    "\n",
    "* A + B\n",
    "* A - B\n",
    "* A * B\n",
    "* A / B\n",
    "* A ** 3\n",
    "\n",
    "A = np.arange(1,6)\n",
    "\n",
    "B = np.arange(6,15, 2)"
   ]
  },
  {
   "cell_type": "code",
   "execution_count": 89,
   "metadata": {
    "id": "YCxT5wwidSq9"
   },
   "outputs": [
    {
     "name": "stdout",
     "output_type": "stream",
     "text": [
      "[ 7 10 13 16 19]\n",
      "[-5 -6 -7 -8 -9]\n",
      "[ 6 16 30 48 70]\n",
      "[0.16666667 0.25       0.3        0.33333333 0.35714286]\n",
      "[  1   8  27  64 125]\n"
     ]
    }
   ],
   "source": [
    "# Your Code Here\n",
    "A = np.arange(1, 6)\n",
    "B = np.arange(6, 15, 2)\n",
    "#A\n",
    "#B\n",
    "print(A+B)\n",
    "print(A-B)\n",
    "print(A*B)\n",
    "print(A/B)\n",
    "print(A**3)\n"
   ]
  },
  {
   "cell_type": "markdown",
   "metadata": {
    "id": "cgdkW34mdSrE"
   },
   "source": [
    "#### Exercise 19: Given an Array *A*. Calculate the square root of elements in it.\n",
    "\n",
    "A = np.arange(1,20, 2)"
   ]
  },
  {
   "cell_type": "code",
   "execution_count": 44,
   "metadata": {
    "id": "CEq04cTmdSrF"
   },
   "outputs": [
    {
     "data": {
      "text/plain": [
       "array([ 1,  3,  5,  7,  9, 11, 13, 15, 17, 19])"
      ]
     },
     "execution_count": 44,
     "metadata": {},
     "output_type": "execute_result"
    }
   ],
   "source": [
    "# Your Code Here\n",
    "A = np.arange(1, 20, 2)\n",
    "np.sqrt(A)"
   ]
  },
  {
   "cell_type": "markdown",
   "metadata": {
    "id": "5Fhd3IswdSrJ"
   },
   "source": [
    "#### Exercise 20: Given an array *A*. Calculate the exponential of elements in it.\n",
    "\n",
    "A = np.arange(1, 20, 2)"
   ]
  },
  {
   "cell_type": "code",
   "execution_count": 77,
   "metadata": {
    "id": "oomuquycdSrK"
   },
   "outputs": [
    {
     "data": {
      "text/plain": [
       "(array([ 1,  3,  5,  7,  9, 11, 13, 15, 17, 19]),\n",
       " array([2.71828183e+00, 2.00855369e+01, 1.48413159e+02, 1.09663316e+03,\n",
       "        8.10308393e+03, 5.98741417e+04, 4.42413392e+05, 3.26901737e+06,\n",
       "        2.41549528e+07, 1.78482301e+08]))"
      ]
     },
     "execution_count": 77,
     "metadata": {},
     "output_type": "execute_result"
    }
   ],
   "source": [
    "# Your Code Here\n",
    "A = np.arange(1, 20, 2)\n",
    "A, np.exp(A)"
   ]
  },
  {
   "cell_type": "code",
   "execution_count": null,
   "metadata": {},
   "outputs": [],
   "source": []
  }
 ],
 "metadata": {
  "colab": {
   "name": "IntroductiontoNumpy1.ipynb",
   "private_outputs": true,
   "provenance": []
  },
  "kernelspec": {
   "display_name": "Python 3",
   "language": "python",
   "name": "python3"
  },
  "language_info": {
   "codemirror_mode": {
    "name": "ipython",
    "version": 3
   },
   "file_extension": ".py",
   "mimetype": "text/x-python",
   "name": "python",
   "nbconvert_exporter": "python",
   "pygments_lexer": "ipython3",
   "version": "3.8.5"
  }
 },
 "nbformat": 4,
 "nbformat_minor": 1
}
