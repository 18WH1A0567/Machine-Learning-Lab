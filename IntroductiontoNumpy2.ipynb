{
 "cells": [
  {
   "cell_type": "markdown",
   "metadata": {
    "id": "apf4OFJfQ4LE"
   },
   "source": [
    "## Objective\n",
    "\n",
    "At the end of the experiment you will be able to \n",
    "\n",
    "* execute linear algebraic functions\n",
    "* explain difference between numpy arrays and  Python lists"
   ]
  },
  {
   "cell_type": "markdown",
   "metadata": {
    "id": "wNWKISnBQ1u2"
   },
   "source": [
    "### Introduction to Numpy\n",
    "\n",
    "NumPy (Numerical Python) is a Python library for scientific computing, that provide high-performance vector, matrix, and higher-dimensional data structures for Python. It is implemented in C and Fortran so when calculations are vectorized (formulated with vectors and matrices), the performance is very good.\n",
    "\n",
    "It offers ndarray data structure for storing and ufuncs for efficiently processing the (homogeneous) data. Some of the important functionalities include: basic slicing, advanced or fancy indexing, broadcasting, etc.\n",
    "\n",
    "\n",
    "**How are NumPy arrays different from Python lists?**\n",
    "\n",
    "* Python lists are very general. They can contain any kind of object. They are dynamically typed.\n",
    "* They do not support mathematical functions such as matrix and dot multiplications, etc. Implementing such functions for Python lists would not be very efficient because of the dynamic typing.\n",
    "* Numpy arrays are statically typed and homogeneous. The type of the elements is determined when the array is created.\n",
    "* Numpy arrays are memory efficient.\n",
    "* Because of the static typing, fast implementation of mathematical functions such as multiplication and addition of numpy arrays can be implemented in a compiled language (C and Fortran is used).\n",
    "\n",
    "\n",
    "Now it is time to work on practicals. Following Are the given Exercise:\n"
   ]
  },
  {
   "cell_type": "markdown",
   "metadata": {
    "id": "qwgeAaDqSOm-"
   },
   "source": [
    "#### Exercise 1: Import the numpy package under the name np"
   ]
  },
  {
   "cell_type": "code",
   "execution_count": 2,
   "metadata": {
    "id": "J44YqJ44QtlU"
   },
   "outputs": [],
   "source": [
    "# Your Code Here\n",
    "import numpy as np"
   ]
  },
  {
   "cell_type": "markdown",
   "metadata": {
    "id": "_nZ3clmuSVlg"
   },
   "source": [
    "#### Exercise 2: Given an array *X*. Calculate sine, cosine, and tangent of *X*, element-wise.\n",
    "\n",
    "X = np.array([1, 45, 60, 90])"
   ]
  },
  {
   "cell_type": "code",
   "execution_count": 12,
   "metadata": {
    "id": "A5x5wgJsQ2br"
   },
   "outputs": [
    {
     "name": "stdout",
     "output_type": "stream",
     "text": [
      "[ 0.84147098  0.85090352 -0.30481062  0.89399666]\n",
      "[ 0.54030231  0.52532199 -0.95241298 -0.44807362]\n",
      "[ 1.55740772  1.61977519  0.32004039 -1.99520041]\n"
     ]
    }
   ],
   "source": [
    "# Your Code Here\n",
    "x = np.array([1, 45, 60, 90])\n",
    "s = np.sin(x)\n",
    "c = np.cos(x)\n",
    "t = np.tan(x)\n",
    "print(s)\n",
    "print(c)\n",
    "print(t)"
   ]
  },
  {
   "cell_type": "markdown",
   "metadata": {
    "id": "GMvtbx9iTISy"
   },
   "source": [
    "#### Exercise 3: Given an array *X*. Convert angles from radians to degrees.\n",
    "\n",
    "X = np.array([-np.pi, -np.pi/2, np.pi/2, np.pi])"
   ]
  },
  {
   "cell_type": "code",
   "execution_count": 11,
   "metadata": {
    "id": "NJqUZmj6S_t1"
   },
   "outputs": [
    {
     "name": "stdout",
     "output_type": "stream",
     "text": [
      "[-180.  -90.   90.  180.]\n"
     ]
    }
   ],
   "source": [
    "# Your Code Here\n",
    "x = np.array([-np.pi, -np.pi/2, np.pi/2, np.pi])\n",
    "p = np.degrees(x)\n",
    "print(p)"
   ]
  },
  {
   "cell_type": "markdown",
   "metadata": {
    "id": "8hFPkopqTVkp"
   },
   "source": [
    "#### Exercise 4: Given an arrya *X*. Convert angles from degrees to radians.\n",
    "\n",
    "X = np.array([-180.,  -90.,   90.,  180.])"
   ]
  },
  {
   "cell_type": "code",
   "execution_count": 4,
   "metadata": {
    "id": "1GcvmHC7THVM"
   },
   "outputs": [
    {
     "name": "stdout",
     "output_type": "stream",
     "text": [
      "[-3.14159265 -1.57079633  1.57079633  3.14159265]\n"
     ]
    }
   ],
   "source": [
    "# Your Code Here\n",
    "x = np.array([-180., -90., 90., 180.])\n",
    "p = np.radians(x)\n",
    "print(p)"
   ]
  },
  {
   "cell_type": "markdown",
   "metadata": {
    "id": "xppXPZU2Tkm-"
   },
   "source": [
    "#### Exercise 5: Given an array *X*. Calculate hyperbolic sine, hyperbolic cosine, and hyperbolic tangent of *X*, element-wise. \n",
    "\n",
    "X = np.array([-1., 0, 1.])"
   ]
  },
  {
   "cell_type": "code",
   "execution_count": 10,
   "metadata": {
    "id": "IMcSv22uTgms"
   },
   "outputs": [
    {
     "name": "stdout",
     "output_type": "stream",
     "text": [
      "[-1.17520119  0.          1.17520119]\n",
      "[1.54308063 1.         1.54308063]\n",
      "[-0.76159416  0.          0.76159416]\n"
     ]
    }
   ],
   "source": [
    "# Your Code Here\n",
    "x = np.array([-1., 0., 1.])\n",
    "hyperbolic_sine = np.sinh(x)\n",
    "hyperbolic_cosine = np.cosh(x)\n",
    "hyperbolic_tangent = np.tanh(x)\n",
    "print(hyperbolic_sine)\n",
    "print(hyperbolic_cosine)\n",
    "print(hyperbolic_tangent)"
   ]
  },
  {
   "cell_type": "markdown",
   "metadata": {
    "id": "ahRXCZSxT0kU"
   },
   "source": [
    "#### Exercise 6: Given an array *X*. Calculate the round, ceil, floor of *X*, element-wise\n",
    "\n",
    "X = np.array([4.1, 2.5, 44.5, 25.9, -1.1, -9.5, -6.9])"
   ]
  },
  {
   "cell_type": "code",
   "execution_count": 15,
   "metadata": {
    "id": "p83dwIEPT7Ja"
   },
   "outputs": [
    {
     "name": "stdout",
     "output_type": "stream",
     "text": [
      "[  4.   2.  44.  26.  -1. -10.  -7.]\n",
      "[ 5.  3. 45. 26. -1. -9. -6.]\n",
      "[  4.   2.  44.  25.  -2. -10.  -7.]\n"
     ]
    }
   ],
   "source": [
    "# Your Code Here\n",
    "x = np.array([4.1, 2.5, 44.5, 25.9, -1.1, -9.5, -6.9])\n",
    "x_round = np.round(x)\n",
    "x_ceil = np.ceil(x)\n",
    "x_floor = np.floor(x)\n",
    "print(x_round)\n",
    "print(x_ceil)\n",
    "print(x_floor)"
   ]
  },
  {
   "cell_type": "markdown",
   "metadata": {
    "id": "KzcrhGeFUmVE"
   },
   "source": [
    "#### Exercise 7: Given an array *X*. Calculate the difference between neighboring elements, element-wise.\n",
    "\n",
    "X = np.array([11, 13, 23, 45, 77])"
   ]
  },
  {
   "cell_type": "code",
   "execution_count": 16,
   "metadata": {
    "id": "bSQpJ5IQUSf0"
   },
   "outputs": [
    {
     "name": "stdout",
     "output_type": "stream",
     "text": [
      "[ 2 10 22 32]\n"
     ]
    }
   ],
   "source": [
    "# Your Code Here\n",
    "X = np.array([11, 13, 23, 45, 77])\n",
    "\n",
    "Y = np.diff(X)\n",
    "print(Y)"
   ]
  },
  {
   "cell_type": "markdown",
   "metadata": {
    "id": "rmSYTiqyVB2x"
   },
   "source": [
    "#### Exercise 8: Given two arrays *X* and *Y*. Find the cross product.\n",
    "\n",
    "X = np.array([1, 2, 3])\n",
    "\n",
    "Y = np.array([4, 5, 6])"
   ]
  },
  {
   "cell_type": "code",
   "execution_count": 3,
   "metadata": {
    "id": "JqHukc33U3L2"
   },
   "outputs": [
    {
     "name": "stdout",
     "output_type": "stream",
     "text": [
      "[-3  6 -3]\n"
     ]
    }
   ],
   "source": [
    "# Your Code Here\n",
    "X = np.array([1, 2, 3])\n",
    "Y = np.array([4, 5, 6])\n",
    "\n",
    "Z = np.cross(X, Y)\n",
    "print(Z)"
   ]
  },
  {
   "cell_type": "markdown",
   "metadata": {
    "id": "eg3qCawdV_1-"
   },
   "source": [
    "#### Exercise 9: Given two arrays *X* and *Y*. Find the dot product.\n",
    "\n",
    "X = np.array([1, 2, 3])\n",
    "\n",
    "Y = np.array([4, 5, 6])"
   ]
  },
  {
   "cell_type": "code",
   "execution_count": 4,
   "metadata": {
    "id": "S2TgQkEyVa3z"
   },
   "outputs": [
    {
     "name": "stdout",
     "output_type": "stream",
     "text": [
      "32\n"
     ]
    }
   ],
   "source": [
    "# Your Code Here\n",
    "X = np.array([1, 2, 3])\n",
    "Y = np.array([4, 5, 6])\n",
    "\n",
    "Z = np.dot(X, Y)\n",
    "print(Z)"
   ]
  },
  {
   "cell_type": "markdown",
   "metadata": {
    "id": "BWPtC69NWUbA"
   },
   "source": [
    "#### Exercise 10: Given two arrays *X* and *Y*. Divide *X* by *Y* element-wise using divide, true_divide, floor_divide functions.\n",
    "\n",
    "X = np.array([1, 2, 3])\n",
    "\n",
    "Y = np.array([4, 5, 6])"
   ]
  },
  {
   "cell_type": "code",
   "execution_count": 6,
   "metadata": {
    "id": "YI7fbbJ4WspO"
   },
   "outputs": [
    {
     "name": "stdout",
     "output_type": "stream",
     "text": [
      "[0.25 0.4  0.5 ]\n",
      "[0.25 0.4  0.5 ]\n",
      "[0 0 0]\n"
     ]
    }
   ],
   "source": [
    "# Your Code Here\n",
    "X = np.array([1, 2, 3])\n",
    "Y = np.array([4, 5, 6])\n",
    "\n",
    "D1 = np.divide(X, Y)\n",
    "D2 = np.true_divide(X, Y)\n",
    "D3 = np.floor_divide(X, Y)\n",
    "print(D1)\n",
    "print(D2)\n",
    "print(D3)"
   ]
  },
  {
   "cell_type": "markdown",
   "metadata": {
    "id": "GnIn_YWtW0-r"
   },
   "source": [
    "#### Exercise 11: Given two arrays *X* and *Y*. Compute $X^Y$, element-wise.\n",
    "\n",
    "X = np.array([1, 2, 3])\n",
    "\n",
    "Y = np.array([4, 5, 6])"
   ]
  },
  {
   "cell_type": "code",
   "execution_count": 8,
   "metadata": {
    "id": "rtxR3cJPWury"
   },
   "outputs": [
    {
     "name": "stdout",
     "output_type": "stream",
     "text": [
      "[  1  32 729]\n"
     ]
    }
   ],
   "source": [
    "# Your Code Here\n",
    "X = np.array([1, 2, 3])\n",
    "Y = np.array([4, 5, 6])\n",
    "\n",
    "Z = np.power(X, Y)\n",
    "print(Z)"
   ]
  },
  {
   "cell_type": "markdown",
   "metadata": {
    "id": "HCV1xXXSXLUw"
   },
   "source": [
    "#### Exercise 12: Given one array *X* and Y = 3. Compute the remainder of X / Y element-wise using remainder and fmod functions.\n",
    "\n",
    "\n",
    "X = np.array([1, 2, 3])"
   ]
  },
  {
   "cell_type": "code",
   "execution_count": 10,
   "metadata": {
    "id": "MYHnb66PXd0z"
   },
   "outputs": [
    {
     "name": "stdout",
     "output_type": "stream",
     "text": [
      "[1 2 0]\n",
      "[1 2 0]\n"
     ]
    }
   ],
   "source": [
    "# Your Code Here\n",
    "X = np.array([1, 2, 3])\n",
    "Y = 3\n",
    "\n",
    "R1 = np.remainder(X, Y)\n",
    "R2 = np.fmod(X, Y)\n",
    "\n",
    "print(R1)\n",
    "print(R2)"
   ]
  },
  {
   "cell_type": "markdown",
   "metadata": {
    "id": "_8iviSU_XvzU"
   },
   "source": [
    "#### Exercise 13:  Given an array *X*. If an element of *X* is smaller than 5, replace it with 4. And if an element of *X* is bigger than 9, replace it with 8.\n",
    "\n",
    "X = np.array([8, 4, 22, 3, 66, 12, 1, 5])"
   ]
  },
  {
   "cell_type": "code",
   "execution_count": 12,
   "metadata": {
    "id": "aWVTyhUOXpAv"
   },
   "outputs": [
    {
     "name": "stdout",
     "output_type": "stream",
     "text": [
      "[8 4 8 4 8 8 4 5]\n"
     ]
    }
   ],
   "source": [
    "# Your Code Here\n",
    "X = np.array([8, 4, 22, 3, 66, 12, 1, 5])\n",
    "\n",
    "X[X < 5] = 4\n",
    "X[X > 9] = 8\n",
    "\n",
    "print(X)"
   ]
  },
  {
   "cell_type": "markdown",
   "metadata": {
    "id": "S9I2YYFfg1es"
   },
   "source": [
    "#### Exercise 14: Given an array *X*. Compute the square of *X*, element-wise.\n",
    "\n",
    "X = np.array([2, 3, 4, 5, 6])"
   ]
  },
  {
   "cell_type": "code",
   "execution_count": 13,
   "metadata": {
    "id": "zmUOYKqVg5tt"
   },
   "outputs": [
    {
     "name": "stdout",
     "output_type": "stream",
     "text": [
      "[ 4  9 16 25 36]\n"
     ]
    }
   ],
   "source": [
    "# Your Code Here\n",
    "X = np.array([2, 3, 4, 5, 6])\n",
    "\n",
    "Y = np.square(X)\n",
    "\n",
    "print(Y)"
   ]
  },
  {
   "cell_type": "markdown",
   "metadata": {
    "id": "cUc_0e5ehFMl"
   },
   "source": [
    "#### Exercise 15: Given an array *X*. Compute the absolute value of *X*.\n",
    "\n",
    "X = np.array([[-44, 3], [4, -3]])"
   ]
  },
  {
   "cell_type": "code",
   "execution_count": 15,
   "metadata": {
    "id": "I5p5ILAShAKk"
   },
   "outputs": [
    {
     "name": "stdout",
     "output_type": "stream",
     "text": [
      "[[44  3]\n",
      " [ 4  3]]\n"
     ]
    }
   ],
   "source": [
    "X = np.array([[-44, 3], [4, -3]])\n",
    "\n",
    "Y = np.abs(X)\n",
    "print(Y)"
   ]
  },
  {
   "cell_type": "markdown",
   "metadata": {
    "id": "ozZ2u2G6hbDu"
   },
   "source": [
    "#### Exercise 16: Given an array *X*. Compute an element-wise indication of the sign of *X*, element-wise.\n",
    "\n",
    "X = np.array([1, 3, 0, -1, -3])"
   ]
  },
  {
   "cell_type": "code",
   "execution_count": 17,
   "metadata": {
    "id": "dmKpDGslh5fF"
   },
   "outputs": [
    {
     "name": "stdout",
     "output_type": "stream",
     "text": [
      "[ 1  1  0 -1 -1]\n"
     ]
    }
   ],
   "source": [
    "# Your Code Here\n",
    "X = np.array([1, 3, 0, -1, -3])\n",
    "Y = np.sign(X)\n",
    "print(Y)"
   ]
  },
  {
   "cell_type": "markdown",
   "metadata": {
    "id": "FBB-R10ch9sj"
   },
   "source": [
    "#### Exercise 17: Create an array of the given shape and populate it with random samples from a uniform distribution over [0, 1)."
   ]
  },
  {
   "cell_type": "code",
   "execution_count": 24,
   "metadata": {
    "id": "x_p6iY0giKov"
   },
   "outputs": [
    {
     "name": "stdout",
     "output_type": "stream",
     "text": [
      "[]\n"
     ]
    }
   ],
   "source": [
    "# Your Code Here\n",
    "X = np.random.rand(0, 1)\n",
    "print(X)"
   ]
  },
  {
   "cell_type": "markdown",
   "metadata": {
    "id": "tpGK4dgBiU1s"
   },
   "source": [
    "#### Exercise 18: Given an array *gaussian*. How do you get the number of dimensions of the array?\n",
    "\n",
    "\n",
    "gaussian = np.random.randn(2 * 3 * 4).reshape((2, 3, 4))"
   ]
  },
  {
   "cell_type": "code",
   "execution_count": 25,
   "metadata": {
    "id": "KW7bBw22iML2"
   },
   "outputs": [
    {
     "name": "stdout",
     "output_type": "stream",
     "text": [
      "(2, 3, 4)\n"
     ]
    }
   ],
   "source": [
    "# Your Code Here\n",
    "gaussian = np.random.randn(2 * 3 * 4).reshape((2, 3, 4))\n",
    "print(gaussian.shape)"
   ]
  },
  {
   "cell_type": "markdown",
   "metadata": {
    "id": "3C-hc7xii-DN"
   },
   "source": [
    "#### Exercise 19: Given an array *gaussian*. How do you get the shape of an array?\n",
    "\n",
    "\n",
    "gaussian = np.random.randn(2 * 3 * 4).reshape((2, 3, 4))"
   ]
  },
  {
   "cell_type": "code",
   "execution_count": 26,
   "metadata": {
    "id": "GxN8bsmFi53f"
   },
   "outputs": [
    {
     "name": "stdout",
     "output_type": "stream",
     "text": [
      "(2, 3, 4)\n"
     ]
    }
   ],
   "source": [
    "# Your Code Here\n",
    "gaussian = np.random.randn(2 * 3 * 4).reshape((2, 3, 4))\n",
    "print(gaussian.shape)"
   ]
  },
  {
   "cell_type": "markdown",
   "metadata": {
    "id": "GBA8PxrmjF-3"
   },
   "source": [
    "#### Exercise 20: Given an array *gaussian*. How do you get the total number of elements in the array?\n",
    "\n",
    "\n",
    "gaussian = np.random.randn(2 * 3 * 4).reshape((2, 3, 4))"
   ]
  },
  {
   "cell_type": "code",
   "execution_count": 30,
   "metadata": {
    "id": "PbpYir4xjEr6"
   },
   "outputs": [
    {
     "name": "stdout",
     "output_type": "stream",
     "text": [
      "24\n"
     ]
    }
   ],
   "source": [
    "# Your Code Here\n",
    "gaussian = np.random.randn(2 * 3 * 4).reshape((2, 3, 4))\n",
    "print(gaussian.size)"
   ]
  },
  {
   "cell_type": "markdown",
   "metadata": {
    "id": "t9ciOCrRjP57"
   },
   "source": [
    "#### Exercise 21: Given an array *gaussian*. How do you get memory consumed by each item in the array?\n",
    "\n",
    "\n",
    "gaussian = np.random.randn(2 * 3 * 4).reshape((2, 3, 4))"
   ]
  },
  {
   "cell_type": "code",
   "execution_count": null,
   "metadata": {
    "id": "iWK0KJNpjMxI"
   },
   "outputs": [],
   "source": [
    "# Your Code Here"
   ]
  },
  {
   "cell_type": "markdown",
   "metadata": {
    "id": "orakzs2UjXrL"
   },
   "source": [
    "#### Exercise 22: Given an array *twenty*. How do you access first two rows and three columns\n",
    "\n",
    "twenty = (np.arange(4 * 5)).reshape(4, 5)"
   ]
  },
  {
   "cell_type": "code",
   "execution_count": 45,
   "metadata": {
    "id": "-Hv2d-AZjWw2"
   },
   "outputs": [
    {
     "name": "stdout",
     "output_type": "stream",
     "text": [
      "[[0 1 2]\n",
      " [5 6 7]]\n"
     ]
    }
   ],
   "source": [
    "# Your Code Here\n",
    "twenty = (np.arange(4 * 5)).reshape(4, 5)\n",
    "print(twenty[:2,:3])"
   ]
  },
  {
   "cell_type": "markdown",
   "metadata": {
    "id": "MTiZNOygkDpz"
   },
   "source": [
    "#### Exercise 23: Given an array *twenty*. How do you reverse the order of elements along columns?\n",
    "\n",
    "\n",
    "twenty = (np.arange(4 * 5)).reshape(4, 5) "
   ]
  },
  {
   "cell_type": "code",
   "execution_count": 73,
   "metadata": {
    "id": "gR9tbU3DkCiK"
   },
   "outputs": [
    {
     "name": "stdout",
     "output_type": "stream",
     "text": [
      "[[ 4  3  2  1  0]\n",
      " [ 9  8  7  6  5]\n",
      " [14 13 12 11 10]\n",
      " [19 18 17 16 15]]\n"
     ]
    }
   ],
   "source": [
    "# Your Code Here\n",
    "twenty = (np.arange(4 * 5)).reshape(4, 5)\n",
    "\n",
    "rev_twenty = np.fliplr(twenty)\n",
    "print(rev_twenty)"
   ]
  },
  {
   "cell_type": "markdown",
   "metadata": {
    "id": "EDfAt4wwkQ3j"
   },
   "source": [
    "#### Exercise 24: Given an array *twenty*. How do you reverse the order of elements along rows?\n",
    "\n",
    "\n",
    "twenty = (np.arange(4 * 5)).reshape(4, 5) "
   ]
  },
  {
   "cell_type": "code",
   "execution_count": 58,
   "metadata": {
    "id": "FZraxHTWkP_7"
   },
   "outputs": [
    {
     "name": "stdout",
     "output_type": "stream",
     "text": [
      "[[19 18 17 16 15]\n",
      " [14 13 12 11 10]\n",
      " [ 9  8  7  6  5]\n",
      " [ 4  3  2  1  0]]\n"
     ]
    }
   ],
   "source": [
    "# Your Code Here\n",
    "twenty = (np.arange(4 * 5)).reshape(4, 5)\n",
    "\n",
    "rev_twenty = np.flip(twenty)\n",
    "print(rev_twenty)"
   ]
  },
  {
   "cell_type": "markdown",
   "metadata": {
    "id": "6EjVbcyQknaZ"
   },
   "source": [
    "#### Exercise 25: Given an array *twenty*. How do you shuffle the array along axis - 0\n",
    "\n",
    "\n",
    "twenty = (np.arange(4 * 5)).reshape(4, 5) "
   ]
  },
  {
   "cell_type": "code",
   "execution_count": 72,
   "metadata": {
    "id": "uMvozBGJkbWd"
   },
   "outputs": [
    {
     "name": "stdout",
     "output_type": "stream",
     "text": [
      "[[10 11 12 13 14]\n",
      " [15 16 17 18 19]\n",
      " [ 5  6  7  8  9]\n",
      " [ 0  1  2  3  4]]\n"
     ]
    }
   ],
   "source": [
    "# Your Code Here\n",
    "twenty = (np.arange(4 * 5)).reshape(4, 5)\n",
    "np.random.shuffle(twenty)\n",
    "print(twenty)"
   ]
  },
  {
   "cell_type": "code",
   "execution_count": null,
   "metadata": {
    "id": "Mqn_mG2RkykA"
   },
   "outputs": [],
   "source": []
  }
 ],
 "metadata": {
  "colab": {
   "name": "IntroductiontoNumpy2.ipynb",
   "private_outputs": true,
   "provenance": []
  },
  "kernelspec": {
   "display_name": "Python 3",
   "language": "python",
   "name": "python3"
  },
  "language_info": {
   "codemirror_mode": {
    "name": "ipython",
    "version": 3
   },
   "file_extension": ".py",
   "mimetype": "text/x-python",
   "name": "python",
   "nbconvert_exporter": "python",
   "pygments_lexer": "ipython3",
   "version": "3.8.5"
  }
 },
 "nbformat": 4,
 "nbformat_minor": 1
}
